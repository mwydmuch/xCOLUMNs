{
 "cells": [
  {
   "cell_type": "code",
   "execution_count": null,
   "metadata": {},
   "outputs": [],
   "source": [
    "import seaborn as sns\n",
    "import matplotlib.pyplot as plt\n",
    "import numpy as np\n",
    "import scipy.stats as stats\n",
    "\n",
    "\n",
    "class XDistGen(object):\n",
    "    def __init__(self, dist, dim=2):\n",
    "        self.dim = dim\n",
    "        self.dist = dist\n",
    "        \n",
    "    def __call__(self, samples):\n",
    "        return self.dist.rvs(size=(samples, self.dim))\n",
    "\n",
    "    def pdf(self, x):\n",
    "        return self.dist.pdf(x).prod(axis=1)\n",
    "\n",
    "\n",
    "class YGen1(object):\n",
    "    def __init__(self, dim=3):\n",
    "        self.dim = dim\n",
    "\n",
    "    def __call__(self, x):\n",
    "        y = np.zeros((x.shape[0], self.dim))\n",
    "        y[:, 0] = 1/(1 + np.exp(-x[:, 0] + 1)) / 2 + 0.5\n",
    "        y[:, 1] = (1 - 1/(1 + np.exp(-x[:, 1] - 1)))\n",
    "        y[:, 2] = (1 - 1/(1 + np.exp(-x[:, 1] - 3)))\n",
    "        return y\n",
    "    \n",
    "class YGen2(object):\n",
    "    def __init__(self, dim=3):\n",
    "        self.dim = dim\n",
    "\n",
    "    def __call__(self, x):\n",
    "        y = YGen1(dim=self.dim)(x)\n",
    "        #y[:, 2] = 1/(1 + np.exp(-(x[:, 0] + x[:, 1])))\n",
    "        y[:, 2] = 1/(1 + np.exp(-x[:, 0] + 2))\n",
    "        return y"
   ]
  },
  {
   "cell_type": "code",
   "execution_count": null,
   "metadata": {},
   "outputs": [],
   "source": [
    "samples = 100000\n",
    "x_gen = XDistGen(stats.norm, dim=2)\n",
    "x = x_gen(samples)\n",
    "x_prob = x_gen.pdf(x)\n",
    "\n",
    "fig = plt.figure()\n",
    "ax = fig.add_subplot(111, projection = '3d')\n",
    "ax.scatter(x[:,0], x[:,1], x_prob, c=x_prob, cmap='viridis')"
   ]
  },
  {
   "cell_type": "code",
   "execution_count": null,
   "metadata": {},
   "outputs": [],
   "source": [
    "y1 = YGen1(dim=3)(x)\n",
    "y2 = YGen2(dim=3)(x)"
   ]
  },
  {
   "cell_type": "code",
   "execution_count": null,
   "metadata": {},
   "outputs": [],
   "source": [
    "fig = plt.figure(figsize=(22, 5))\n",
    "ax = fig.add_subplot(1, 4, 1, projection='3d')\n",
    "ax.scatter(x[:,0], x[:,1], y1[:,0], c=y1[:,0], cmap='viridis')\n",
    "ax = fig.add_subplot(1, 4, 2, projection='3d')\n",
    "ax.scatter(x[:,0], x[:,1], y1[:,1], c=y1[:,1], cmap='viridis')\n",
    "ax = fig.add_subplot(1, 4, 3, projection='3d')\n",
    "ax.scatter(x[:,0], x[:,1], y1[:,2], c=y1[:,2], cmap='viridis')\n",
    "ax = fig.add_subplot(1, 4, 4, projection='3d')\n",
    "ax.scatter(x[:,0], x[:,1], y2[:,2], c=y2[:,2], cmap='viridis')"
   ]
  },
  {
   "cell_type": "code",
   "execution_count": null,
   "metadata": {},
   "outputs": [],
   "source": [
    "from pathlib import Path\n",
    "import os\n",
    "import sys\n",
    "sys.path.append(os.path.dirname(Path.cwd()))\n",
    "from src.frank_wolfe import frank_wolfe, select_top_k_np, macro_sqrt_tp_C, macro_f1_C\n",
    "\n",
    "\n",
    "def get_order(y_proba, classifiers, classifier_weights, seed=0):\n",
    "    if seed is not None:\n",
    "        np.random.seed(seed)\n",
    "\n",
    "    ni = y_proba.shape[0]\n",
    "    result = np.zeros(y_proba.shape)\n",
    "    for i in range(ni):\n",
    "        c = np.random.choice(classifiers.shape[0], p=classifier_weights)\n",
    "        G = classifiers[c]\n",
    "        eta_i = y_proba[i]\n",
    "        u = (eta_i * (G[:,0] - G[:,1] - G[:,2] + G[:,3])) + G[:,1] - G[:,3]\n",
    "        result[i] = u\n",
    "\n",
    "    return result\n",
    "\n",
    "\n",
    "def get_fw_order01(y, utlity_func):\n",
    "    classifiers, classifiers_weights, meta = frank_wolfe(y, y, utlity_func, max_iters=100, k=1)\n",
    "    y_pred = get_order(y, classifiers, classifiers_weights, seed=0)\n",
    "    order = y_pred[:,0] > y_pred[:,1]\n",
    "    return order, y_pred\n"
   ]
  },
  {
   "cell_type": "code",
   "execution_count": null,
   "metadata": {},
   "outputs": [],
   "source": [
    "order1, y_pred1 = get_fw_order01(y1, macro_f1_C)\n",
    "order2, y_pred2 = get_fw_order01(y2, macro_f1_C)"
   ]
  },
  {
   "cell_type": "code",
   "execution_count": null,
   "metadata": {},
   "outputs": [],
   "source": [
    "y_pred1"
   ]
  },
  {
   "cell_type": "code",
   "execution_count": null,
   "metadata": {},
   "outputs": [],
   "source": [
    "y_pred2"
   ]
  },
  {
   "cell_type": "code",
   "execution_count": null,
   "metadata": {},
   "outputs": [],
   "source": [
    "fig, axes = plt.subplots(1, 3, figsize=(16.5, 5))\n",
    "diff = order1 != order2\n",
    "axes[0].scatter(x[:,0], x[:,1], c=order1, cmap='viridis')\n",
    "axes[1].scatter(x[:,0], x[:,1], c=order2, cmap='viridis')\n",
    "axes[2].scatter(x[:,0], x[:,1], c=diff, cmap='viridis')"
   ]
  }
 ],
 "metadata": {
  "kernelspec": {
   "display_name": "Python 3",
   "language": "python",
   "name": "python3"
  },
  "language_info": {
   "codemirror_mode": {
    "name": "ipython",
    "version": 3
   },
   "file_extension": ".py",
   "mimetype": "text/x-python",
   "name": "python",
   "nbconvert_exporter": "python",
   "pygments_lexer": "ipython3",
   "version": "3.10.12"
  },
  "orig_nbformat": 4
 },
 "nbformat": 4,
 "nbformat_minor": 2
}
