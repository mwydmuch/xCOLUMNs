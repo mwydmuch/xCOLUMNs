{
 "cells": [
  {
   "cell_type": "code",
   "execution_count": 12,
   "metadata": {},
   "outputs": [],
   "source": [
    "def lin_search(low, high, step, func):\n",
    "    best = None\n",
    "    best_score = None\n",
    "    for i in range(low, high, step):\n",
    "        score = func(i)\n",
    "        if best_score is None or score > best_score:\n",
    "            best = i\n",
    "            best_score = score\n",
    "    return best, best_score\n",
    "\n",
    "\n",
    "def bin_search(low, high, eps, func):\n",
    "    i = 0\n",
    "    while high - low > eps:\n",
    "        i += 1\n",
    "        mid = (low + high) / 2\n",
    "        mid_next = (mid + high) / 2\n",
    "\n",
    "        if func(mid) < func(mid_next):\n",
    "            high = mid_next\n",
    "        else:\n",
    "            low = mid\n",
    "\n",
    "    return (low + high) / 2, i\n",
    "\n",
    "\n",
    "def ternary_search(low, high, eps, func):\n",
    "    i = 0\n",
    "    while high - low > eps:\n",
    "        i += 1\n",
    "        mid1 = low + (high - low) / 3\n",
    "        mid2 = high - (high - low) / 3\n",
    "\n",
    "        if func(mid1) < func(mid2):\n",
    "            high = mid2\n",
    "        else:\n",
    "            low = mid1\n",
    "\n",
    "    return (low + high) / 2, i"
   ]
  },
  {
   "cell_type": "code",
   "execution_count": 20,
   "metadata": {},
   "outputs": [
    {
     "name": "stdout",
     "output_type": "stream",
     "text": [
      "(-0.5002474715001881, 20) (-0.49998458158606834, 23) -0.0004949430003762245 3.083682786331199e-05\n"
     ]
    }
   ],
   "source": [
    "def convex_function(x):\n",
    "    # Replace this with your own convex function\n",
    "    return (x + 0.5)**2 + 0.5   # Example function: x^2\n",
    "\n",
    "a = bin_search(-5, 5, 0.001, convex_function)\n",
    "b = ternary_search(-5, 5, 0.001, convex_function)\n",
    "print(a, b, 1 - a[0] / -0.5, 1 - b[0] / -0.5)"
   ]
  },
  {
   "cell_type": "code",
   "execution_count": null,
   "metadata": {},
   "outputs": [],
   "source": []
  },
  {
   "cell_type": "code",
   "execution_count": null,
   "metadata": {},
   "outputs": [],
   "source": []
  }
 ],
 "metadata": {
  "kernelspec": {
   "display_name": "Python 3",
   "language": "python",
   "name": "python3"
  },
  "language_info": {
   "codemirror_mode": {
    "name": "ipython",
    "version": 3
   },
   "file_extension": ".py",
   "mimetype": "text/x-python",
   "name": "python",
   "nbconvert_exporter": "python",
   "pygments_lexer": "ipython3",
   "version": "3.10.12"
  }
 },
 "nbformat": 4,
 "nbformat_minor": 2
}
