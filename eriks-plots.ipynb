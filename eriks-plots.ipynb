{
 "cells": [
  {
   "cell_type": "code",
   "execution_count": null,
   "metadata": {},
   "outputs": [],
   "source": [
    "import numpy as np\n",
    "import matplotlib.pyplot as plt\n",
    "\n",
    "\n",
    "def sqrt_tp(probs, etas):\n",
    "    tp = probs * etas\n",
    "    tp = np.mean(tp, axis=-1)\n",
    "    srqt_tp = np.sqrt(tp + 1e-3)\n",
    "    return np.mean(srqt_tp, axis=-1)\n",
    "\n",
    "\n",
    "def recall(probs, etas):\n",
    "    tp = probs * etas\n",
    "    tp = np.sqrt(np.sum(tp, axis=-1))\n",
    "    return np.sum(tp, axis=-1)\n",
    "\n",
    "\n",
    "def score_plot(etas, ax, measure):\n",
    "    a = np.linspace(0, 1)\n",
    "    xx, yy = np.meshgrid(a, a)\n",
    "    # xx, zz -- instance 1\n",
    "    # yy, aa -- instance 2 \n",
    "    zz = 1 - xx\n",
    "    aa = 1 - yy\n",
    "\n",
    "    #xx[:, :] = 30\n",
    "    #yy[:, :] = 40\n",
    "    #zz[:, :] = 70\n",
    "    #aa[:, :] = 60\n",
    "\n",
    "    result = np.stack([xx, yy, zz, aa], axis=-1).reshape((50, 50, 2, 2))\n",
    "    #print(np.sum(result, axis=-2))\n",
    "    #print(result[0, 0])\n",
    "    #print(result[0, 0, 0])\n",
    "\n",
    "    scores = measure(result, etas)\n",
    "    ax.imshow(scores)\n",
    "    ticks = 5\n",
    "    ax.set(xticks=np.linspace(0, a.shape[0] - 1, ticks), xticklabels=np.linspace(0, 1, ticks))\n",
    "    ax.set(yticks=np.linspace(0, a.shape[0] - 1, ticks), yticklabels=np.linspace(0, 1, ticks))\n",
    "\n",
    "    print(f\"Best score: {np.max(scores.reshape(-1))}\")\n",
    "    best = np.argmax(scores.reshape(-1))\n",
    "    print(f\"Best solution: {result.reshape((-1, 2, 2))[best]}\")\n",
    "\n",
    "\n",
    "fig, axes = plt.subplots(1, 2)\n",
    "etas = np.array([[0.7, 0.4], [0, 0.3]])\n",
    "score_plot(etas, axes[0], sqrt_tp)\n",
    "\n",
    "etas = np.array([[0.7, 0.4], [0.3, 0]])\n",
    "score_plot(etas, axes[1], sqrt_tp)\n",
    "\n",
    "plt.show()"
   ]
  },
  {
   "cell_type": "code",
   "execution_count": null,
   "metadata": {},
   "outputs": [],
   "source": [
    "from src.frank_wolfe import frank_wolfe\n",
    "import torch\n",
    "\n",
    "def sqrt_tp_C(C):\n",
    "    return torch.sqrt(C[:,0] + 1e-3)\n",
    "\n",
    "classifiers, classifiers_weights, meta = frank_wolfe(etas, etas, sqrt_tp_C, max_iters=100, k=1)"
   ]
  }
 ],
 "metadata": {
  "kernelspec": {
   "display_name": "base",
   "language": "python",
   "name": "python3"
  },
  "language_info": {
   "codemirror_mode": {
    "name": "ipython",
    "version": 3
   },
   "file_extension": ".py",
   "mimetype": "text/x-python",
   "name": "python",
   "nbconvert_exporter": "python",
   "pygments_lexer": "ipython3",
   "version": "3.9.13"
  },
  "orig_nbformat": 4
 },
 "nbformat": 4,
 "nbformat_minor": 2
}
